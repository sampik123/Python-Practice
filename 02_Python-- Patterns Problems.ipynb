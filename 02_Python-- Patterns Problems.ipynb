{
 "cells": [
  {
   "cell_type": "raw",
   "id": "17184c8e",
   "metadata": {},
   "source": [
    "Q. 98.\n",
    "\n",
    "* * * * \n",
    "* * * *\n",
    "* * * *\n",
    "* * * *"
   ]
  },
  {
   "cell_type": "code",
   "execution_count": 1,
   "id": "6a532d44",
   "metadata": {},
   "outputs": [
    {
     "name": "stdout",
     "output_type": "stream",
     "text": [
      "5\n",
      "*****\n",
      "*****\n",
      "*****\n",
      "*****\n",
      "*****\n"
     ]
    }
   ],
   "source": [
    "# Q. 98.\n",
    "N = int(input())\n",
    "i = 1\n",
    "while i<= N:\n",
    "    j = 1\n",
    "    while j <= N:\n",
    "        print('*', end = '')\n",
    "        j = j + 1\n",
    "        \n",
    "    print()  \n",
    "    i = i + 1"
   ]
  },
  {
   "cell_type": "raw",
   "id": "e7a8a2d3",
   "metadata": {},
   "source": [
    "Q. 99.\n",
    "4 4 4 4\n",
    "4 4 4 4 \n",
    "4 4 4 4\n",
    "4 4 4 4"
   ]
  },
  {
   "cell_type": "code",
   "execution_count": 2,
   "id": "07bebf54",
   "metadata": {},
   "outputs": [
    {
     "name": "stdout",
     "output_type": "stream",
     "text": [
      "5\n",
      "55555\n",
      "55555\n",
      "55555\n",
      "55555\n",
      "55555\n"
     ]
    }
   ],
   "source": [
    "# Q99.\n",
    "N = int(input())\n",
    "i = 1\n",
    "while i<= N:\n",
    "    j = 1\n",
    "    while j <= N:\n",
    "        print(N , end = '')\n",
    "        j = j + 1\n",
    "        \n",
    "    print()  \n",
    "    i = i + 1"
   ]
  },
  {
   "cell_type": "raw",
   "id": "345843b6",
   "metadata": {},
   "source": [
    "Q.100.\n",
    "1 1 1 1\n",
    "2 2 2 2\n",
    "3 3 3 3\n",
    "4 4 4 4"
   ]
  },
  {
   "cell_type": "code",
   "execution_count": 3,
   "id": "8e78f5b5",
   "metadata": {},
   "outputs": [
    {
     "name": "stdout",
     "output_type": "stream",
     "text": [
      "5\n",
      "11111\n",
      "22222\n",
      "33333\n",
      "44444\n",
      "55555\n"
     ]
    }
   ],
   "source": [
    "# Q.100\n",
    "N = int(input())\n",
    "i = 1\n",
    "while i<= N:\n",
    "    j = 1\n",
    "    while j <= N:\n",
    "        print(i , end = '')\n",
    "        j = j + 1\n",
    "        \n",
    "    print()  \n",
    "    i = i + 1"
   ]
  },
  {
   "cell_type": "raw",
   "id": "049bdd4a",
   "metadata": {},
   "source": [
    "Q.101.\n",
    "1 2 3 4\n",
    "1 2 3 4\n",
    "1 2 3 4\n",
    "1 2 3 4"
   ]
  },
  {
   "cell_type": "code",
   "execution_count": 4,
   "id": "425f07de",
   "metadata": {},
   "outputs": [
    {
     "name": "stdout",
     "output_type": "stream",
     "text": [
      "4\n",
      "1234\n",
      "1234\n",
      "1234\n",
      "1234\n"
     ]
    }
   ],
   "source": [
    "# Q. 101\n",
    "N = int(input())\n",
    "i = 1\n",
    "while i<= N:\n",
    "    j = 1\n",
    "    while j <= N:\n",
    "        print(j , end = '')\n",
    "        j = j + 1\n",
    "        \n",
    "    print()  \n",
    "    i = i + 1"
   ]
  },
  {
   "cell_type": "raw",
   "id": "2db715f8",
   "metadata": {},
   "source": [
    "Q.102.\n",
    "4 3 2 1\n",
    "4 3 2 1\n",
    "4 3 2 1\n",
    "4 3 2 1"
   ]
  },
  {
   "cell_type": "code",
   "execution_count": 5,
   "id": "26925b35",
   "metadata": {},
   "outputs": [
    {
     "name": "stdout",
     "output_type": "stream",
     "text": [
      "5\n",
      "54321\n",
      "54321\n",
      "54321\n",
      "54321\n",
      "54321\n"
     ]
    }
   ],
   "source": [
    "# Q. 102.\n",
    "N = int(input())\n",
    "i = 1\n",
    "while i<= N:\n",
    "    j = 1\n",
    "    while j <= N:\n",
    "        print(N-j+1 , end = '')\n",
    "        j = j + 1\n",
    "        \n",
    "    print()  \n",
    "    i = i + 1"
   ]
  },
  {
   "cell_type": "raw",
   "id": "ba25f286",
   "metadata": {},
   "source": [
    "Q.103.\n",
    "* \n",
    "* *\n",
    "* * *\n",
    "* * * *\n",
    "* * * * *"
   ]
  },
  {
   "cell_type": "code",
   "execution_count": 6,
   "id": "bba17900",
   "metadata": {},
   "outputs": [
    {
     "name": "stdout",
     "output_type": "stream",
     "text": [
      "5\n",
      "* \n",
      "* * \n",
      "* * * \n",
      "* * * * \n",
      "* * * * * \n"
     ]
    }
   ],
   "source": [
    "# Q. 103.\n",
    "N = int(input())\n",
    "i = 1\n",
    "while i <= N:\n",
    "    j = 1\n",
    "    while j <= i:\n",
    "        print('*', end = ' ')\n",
    "        j = j + 1\n",
    "        \n",
    "    print()\n",
    "    i = i + 1"
   ]
  },
  {
   "cell_type": "raw",
   "id": "ce6c9f61",
   "metadata": {},
   "source": [
    "Q.104. \n",
    "1\n",
    "1 2 \n",
    "1 2 3\n",
    "1 2 3 4"
   ]
  },
  {
   "cell_type": "code",
   "execution_count": 7,
   "id": "3514b8bd",
   "metadata": {},
   "outputs": [
    {
     "name": "stdout",
     "output_type": "stream",
     "text": [
      "4\n",
      "1 \n",
      "1 2 \n",
      "1 2 3 \n",
      "1 2 3 4 \n"
     ]
    }
   ],
   "source": [
    "# Q. 104\n",
    "N = int(input())\n",
    "i = 1\n",
    "while i <= N:\n",
    "    j = 1\n",
    "    while j <= i:\n",
    "        print(j , end = ' ')\n",
    "        j = j + 1\n",
    "        \n",
    "    print()\n",
    "    i = i + 1"
   ]
  },
  {
   "cell_type": "raw",
   "id": "07abc446",
   "metadata": {},
   "source": [
    "Q. 105.\n",
    "1 \n",
    "2 3 \n",
    "3 4 5 \n",
    "4 5 6 7"
   ]
  },
  {
   "cell_type": "code",
   "execution_count": 8,
   "id": "feb22633",
   "metadata": {},
   "outputs": [
    {
     "name": "stdout",
     "output_type": "stream",
     "text": [
      "5\n",
      "1 \n",
      "2 3 \n",
      "3 4 5 \n",
      "4 5 6 7 \n",
      "5 6 7 8 9 \n"
     ]
    }
   ],
   "source": [
    "# Q. 105.  method1\n",
    "N = int(input())\n",
    "i = 1\n",
    "while i <= N:\n",
    "    j = 1\n",
    "    while j <= i:\n",
    "        print(i+j-1, end = ' ')\n",
    "        j = j + 1\n",
    "        \n",
    "    print()\n",
    "    i = i + 1"
   ]
  },
  {
   "cell_type": "code",
   "execution_count": 9,
   "id": "cf70b01c",
   "metadata": {},
   "outputs": [
    {
     "name": "stdout",
     "output_type": "stream",
     "text": [
      "4\n",
      "1 \n",
      "2 3 \n",
      "3 4 5 \n",
      "4 5 6 7 \n"
     ]
    }
   ],
   "source": [
    "# Q.105. method2\n",
    "N = int(input())\n",
    "i = 1\n",
    "while i <= N:\n",
    "    j = 1\n",
    "    p =i\n",
    "    while j <= i:\n",
    "        print(p, end = ' ')\n",
    "        j = j + 1\n",
    "        p = p + 1\n",
    "        \n",
    "    print()\n",
    "    i = i + 1"
   ]
  },
  {
   "cell_type": "raw",
   "id": "cf12622b",
   "metadata": {},
   "source": [
    "Q.106\n",
    "1\n",
    "2 3 \n",
    "3 4 5\n",
    "4 5 6 7"
   ]
  },
  {
   "cell_type": "code",
   "execution_count": 10,
   "id": "2b1a43a0",
   "metadata": {},
   "outputs": [
    {
     "name": "stdout",
     "output_type": "stream",
     "text": [
      "5\n",
      "1 \n",
      "2 3 \n",
      "4 5 6 \n",
      "7 8 9 10 \n",
      "11 12 13 14 15 \n"
     ]
    }
   ],
   "source": [
    "# Q.106.\n",
    "N = int(input())\n",
    "i = 1\n",
    "p = 1\n",
    "while i <= N:\n",
    "    j = 1\n",
    "    while j <= i:\n",
    "        print(p, end = ' ')\n",
    "        p = p + 1\n",
    "        j = j + 1\n",
    "        \n",
    "    print()\n",
    "    i = i + 1"
   ]
  },
  {
   "cell_type": "raw",
   "id": "2fb454ea",
   "metadata": {},
   "source": [
    "Q.107. \n",
    "1\n",
    "2 1 \n",
    "3 2 1\n",
    "4 3 2 1\n",
    "5 4 3 2 1"
   ]
  },
  {
   "cell_type": "code",
   "execution_count": 11,
   "id": "8a10e2c6",
   "metadata": {},
   "outputs": [
    {
     "name": "stdout",
     "output_type": "stream",
     "text": [
      "5\n",
      "1 \n",
      "2 1 \n",
      "3 2 1 \n",
      "4 3 2 1 \n",
      "5 4 3 2 1 \n"
     ]
    }
   ],
   "source": [
    "# Q.107\n",
    "N = int(input())\n",
    "i = 1\n",
    "while i <= N:\n",
    "    j = 1\n",
    "    p = i\n",
    "    while j <= i:\n",
    "        print(p, end = ' ')\n",
    "        p = p - 1\n",
    "        j = j + 1\n",
    "        \n",
    "    print()\n",
    "    i = i + 1"
   ]
  },
  {
   "cell_type": "raw",
   "id": "0fb1bc34",
   "metadata": {},
   "source": [
    "Q.108.\n",
    "1\n",
    "2 2 \n",
    "3 3 3 \n",
    "4 4 4 4 \n",
    "5 5 5 5 5 "
   ]
  },
  {
   "cell_type": "code",
   "execution_count": 12,
   "id": "d33ca8fb",
   "metadata": {},
   "outputs": [
    {
     "name": "stdout",
     "output_type": "stream",
     "text": [
      "5\n",
      "1 \n",
      "2 2 \n",
      "3 3 3 \n",
      "4 4 4 4 \n",
      "5 5 5 5 5 \n"
     ]
    }
   ],
   "source": [
    "# Q.108.\n",
    "N = int(input())\n",
    "i = 1\n",
    "while i <= N:\n",
    "    j = 1\n",
    "    p = i\n",
    "    while j <= i:\n",
    "        print(p, end = ' ')\n",
    "        j = j + 1\n",
    "        \n",
    "    print()\n",
    "    i = i + 1"
   ]
  },
  {
   "cell_type": "raw",
   "id": "4417e22f",
   "metadata": {},
   "source": [
    "Q.110.\n",
    "A B C D\n",
    "A B C D\n",
    "A B C D\n",
    "A B C D"
   ]
  },
  {
   "cell_type": "code",
   "execution_count": 13,
   "id": "e07d4894",
   "metadata": {},
   "outputs": [
    {
     "name": "stdout",
     "output_type": "stream",
     "text": [
      "4\n",
      "A B C D \n",
      "A B C D \n",
      "A B C D \n",
      "A B C D \n"
     ]
    }
   ],
   "source": [
    "# Q. 110.\n",
    "N = int(input())\n",
    "i = 1\n",
    "while i <= N:\n",
    "    j = 1\n",
    "    p = i\n",
    "    while j <= N:\n",
    "        charP = chr(ord('A') + j - 1)\n",
    "        print(charP, end = ' ')\n",
    "        j = j + 1\n",
    "        \n",
    "    print()\n",
    "    i = i + 1"
   ]
  },
  {
   "cell_type": "raw",
   "id": "56bb8c98",
   "metadata": {},
   "source": [
    "Q.111.\n",
    "A B C D\n",
    "B C D E\n",
    "C D E F\n",
    "D E F G"
   ]
  },
  {
   "cell_type": "code",
   "execution_count": 14,
   "id": "27d07f59",
   "metadata": {},
   "outputs": [
    {
     "name": "stdout",
     "output_type": "stream",
     "text": [
      "5\n",
      "A B C D E \n",
      "B C D E F \n",
      "C D E F G \n",
      "D E F G H \n",
      "E F G H I \n"
     ]
    }
   ],
   "source": [
    "# Q. 111.\n",
    "N = int(input())\n",
    "i = 1\n",
    "while i <= N:\n",
    "    j = 1\n",
    "    while j <= N:\n",
    "        charP = chr(ord('A') + i + j - 2)\n",
    "        print(charP, end = ' ')\n",
    "        j = j + 1\n",
    "        \n",
    "    print()\n",
    "    i = i + 1"
   ]
  },
  {
   "cell_type": "raw",
   "id": "7aba120c",
   "metadata": {},
   "source": [
    "Q.112.\n",
    "\n",
    "A\n",
    "B C\n",
    "C D E\n",
    "D E F G"
   ]
  },
  {
   "cell_type": "code",
   "execution_count": 15,
   "id": "cbedd737",
   "metadata": {},
   "outputs": [
    {
     "name": "stdout",
     "output_type": "stream",
     "text": [
      "4\n",
      "A \n",
      "B C \n",
      "C D E \n",
      "D E F G \n"
     ]
    }
   ],
   "source": [
    "# Q.112.\n",
    "N = int(input())\n",
    "i = 1\n",
    "while i <= N:\n",
    "    j = 1\n",
    "    while j <= i:\n",
    "        charP = chr(ord('A') + i + j - 2)\n",
    "        print(charP, end = ' ')\n",
    "        j = j + 1\n",
    "        \n",
    "    print()\n",
    "    i = i + 1"
   ]
  },
  {
   "cell_type": "raw",
   "id": "97f609e4",
   "metadata": {},
   "source": [
    "Q.113.\n",
    "\n",
    "E\n",
    "D E\n",
    "C D E\n",
    "B C D E\n",
    "A B C D E"
   ]
  },
  {
   "cell_type": "code",
   "execution_count": 16,
   "id": "31ca16a1",
   "metadata": {},
   "outputs": [
    {
     "name": "stdout",
     "output_type": "stream",
     "text": [
      "4\n",
      "D \n",
      "C D \n",
      "B C D \n",
      "A B C D \n"
     ]
    }
   ],
   "source": [
    "# Q. 113.\n",
    "N = int(input())\n",
    "i = 1\n",
    "while i <= N:\n",
    "    j = 1\n",
    "    while j <= i:\n",
    "        charP = chr(ord('A') + N - i + j - 1)\n",
    "        print(charP, end = ' ')\n",
    "        j = j + 1\n",
    "        \n",
    "    print()\n",
    "    i = i + 1"
   ]
  },
  {
   "cell_type": "raw",
   "id": "0985402a",
   "metadata": {},
   "source": [
    "Q.114.\n",
    "\n",
    "1\n",
    "1 1 \n",
    "1 1 1 \n",
    "1 1 1 1 \n",
    "1 1 1 1 1"
   ]
  },
  {
   "cell_type": "code",
   "execution_count": 17,
   "id": "10008672",
   "metadata": {},
   "outputs": [
    {
     "name": "stdout",
     "output_type": "stream",
     "text": [
      "5\n",
      "1 \n",
      "1 1 \n",
      "1 1 1 \n",
      "1 1 1 1 \n",
      "1 1 1 1 1 \n"
     ]
    }
   ],
   "source": [
    "# Q.114.\n",
    "N = int(input())\n",
    "i = 1\n",
    "while i <= N:\n",
    "    j = 1\n",
    "    while j <= i:\n",
    "        print(1, end= ' ')\n",
    "        j = j + 1\n",
    "        \n",
    "    print()\n",
    "    i += 1\n",
    "    \n",
    "    "
   ]
  },
  {
   "cell_type": "code",
   "execution_count": null,
   "id": "f36443a5",
   "metadata": {},
   "outputs": [],
   "source": []
  },
  {
   "cell_type": "code",
   "execution_count": null,
   "id": "0aac94eb",
   "metadata": {},
   "outputs": [],
   "source": []
  },
  {
   "cell_type": "raw",
   "id": "b14f5094",
   "metadata": {},
   "source": [
    "Q.117.\n",
    "\n",
    "1 2 3 4\n",
    "1 2 3\n",
    "1 2\n",
    "1"
   ]
  },
  {
   "cell_type": "code",
   "execution_count": 18,
   "id": "cd11bf30",
   "metadata": {},
   "outputs": [
    {
     "name": "stdout",
     "output_type": "stream",
     "text": [
      "5\n",
      "1 2 3 4 5 \n",
      "1 2 3 4 \n",
      "1 2 3 \n",
      "1 2 \n",
      "1 \n"
     ]
    }
   ],
   "source": [
    "N = int(input())\n",
    "i = 1\n",
    "while i <= N:\n",
    "    j = 1\n",
    "    while j <= N - i + 1:\n",
    "        print(j, end = ' ')\n",
    "        j = j + 1\n",
    "        \n",
    "    print()\n",
    "    i = i + 1"
   ]
  },
  {
   "cell_type": "raw",
   "id": "1105ff8d",
   "metadata": {},
   "source": [
    "Q. 118.\n",
    "\n",
    "A\n",
    "B B\n",
    "C C C\n",
    "D D D D"
   ]
  },
  {
   "cell_type": "code",
   "execution_count": 19,
   "id": "8eabcf35",
   "metadata": {},
   "outputs": [
    {
     "name": "stdout",
     "output_type": "stream",
     "text": [
      "4\n",
      "A \n",
      "B B \n",
      "C C C \n",
      "D D D D \n"
     ]
    }
   ],
   "source": [
    "N = int(input())\n",
    "i = 1\n",
    "while i <= N:\n",
    "    j = 1\n",
    "    while j <= i:\n",
    "        print(chr(ord('A') + i - 1), end = ' ')\n",
    "        j = j + 1\n",
    "    print()\n",
    "    i = i + 1\n",
    "        "
   ]
  },
  {
   "cell_type": "raw",
   "id": "3aa0b966",
   "metadata": {},
   "source": [
    "Q.119.\n",
    "\n",
    "* * * * *\n",
    "* * * *\n",
    "* * *\n",
    "* * \n",
    "*"
   ]
  },
  {
   "cell_type": "code",
   "execution_count": 20,
   "id": "2ddf361c",
   "metadata": {},
   "outputs": [
    {
     "name": "stdout",
     "output_type": "stream",
     "text": [
      "5\n",
      "* * * * * \n",
      "* * * * \n",
      "* * * \n",
      "* * \n",
      "* \n"
     ]
    }
   ],
   "source": [
    "N = int(input())\n",
    "i = 1\n",
    "while i <= N:\n",
    "    j = 1\n",
    "    while j <= N - i + 1:\n",
    "        print('*', end = ' ')\n",
    "        j = j + 1\n",
    "    print()\n",
    "    i = i + 1"
   ]
  },
  {
   "cell_type": "raw",
   "id": "9f08dbe0",
   "metadata": {},
   "source": [
    "Q.120.\n",
    "\n",
    "4 4 4 4 \n",
    "3 3 3 \n",
    "2 2 \n",
    "1"
   ]
  },
  {
   "cell_type": "code",
   "execution_count": 21,
   "id": "ca2e0f72",
   "metadata": {},
   "outputs": [
    {
     "name": "stdout",
     "output_type": "stream",
     "text": [
      "5\n",
      "5 5 5 5 5 \n",
      "4 4 4 4 \n",
      "3 3 3 \n",
      "2 2 \n",
      "1 \n"
     ]
    }
   ],
   "source": [
    "N = int(input())\n",
    "i = 1\n",
    "while i <= N:\n",
    "    j = 1\n",
    "    while j <= N - i + 1:\n",
    "        print(N-i+1, end = ' ')\n",
    "        j = j + 1\n",
    "    print()\n",
    "    i = i + 1"
   ]
  },
  {
   "cell_type": "raw",
   "id": "bff379a1",
   "metadata": {},
   "source": [
    "Q.121. \n",
    "\n",
    "         *\n",
    "       * *\n",
    "     * * * \n",
    "   * * * *\n",
    " * * * * *  "
   ]
  },
  {
   "cell_type": "code",
   "execution_count": 23,
   "id": "031d401d",
   "metadata": {},
   "outputs": [
    {
     "name": "stdout",
     "output_type": "stream",
     "text": [
      "5\n",
      "        * \n",
      "      * * \n",
      "    * * * \n",
      "  * * * * \n",
      "* * * * * \n"
     ]
    }
   ],
   "source": [
    "#method1\n",
    "N = int(input())\n",
    "i = 1\n",
    "while i <= N:\n",
    "    j = 1\n",
    "    while j <= N - i:\n",
    "        print(\" \",end = ' ')\n",
    "        j = j + 1\n",
    "    while j >= N + 1 - i and j <= N: \n",
    "        print('*', end = ' ')\n",
    "        j = j + 1\n",
    "        \n",
    "    print()\n",
    "    i = i + 1\n",
    "        \n",
    "        "
   ]
  },
  {
   "cell_type": "code",
   "execution_count": 24,
   "id": "910c9502",
   "metadata": {},
   "outputs": [
    {
     "name": "stdout",
     "output_type": "stream",
     "text": [
      "5\n",
      "        * \n",
      "      * * \n",
      "    * * * \n",
      "  * * * * \n",
      "* * * * * \n"
     ]
    }
   ],
   "source": [
    "# method 2\n",
    "N = int(input())\n",
    "i = 1\n",
    "while i <= N:\n",
    "    spaces = 1\n",
    "    while spaces <= N - i:\n",
    "        print(\" \",end = ' ')\n",
    "        spaces = spaces + 1\n",
    "    stars = 1\n",
    "    while stars <= i:         # for ith row we need to print i number of stars\n",
    "        print('*', end = ' ')\n",
    "        stars = stars + 1\n",
    "        \n",
    "    print()\n",
    "    i = i + 1\n",
    "        "
   ]
  },
  {
   "cell_type": "raw",
   "id": "c1f5a576",
   "metadata": {},
   "source": [
    "Q.122.\n",
    "\n",
    "        1\n",
    "      1 2\n",
    "    1 2 3\n",
    "  1 2 3 4\n",
    "1 2 3 4 5   "
   ]
  },
  {
   "cell_type": "code",
   "execution_count": 26,
   "id": "d7c0924b",
   "metadata": {},
   "outputs": [
    {
     "name": "stdout",
     "output_type": "stream",
     "text": [
      "5\n",
      "        1 \n",
      "      1 2 \n",
      "    1 2 3 \n",
      "  1 2 3 4 \n",
      "1 2 3 4 5 \n"
     ]
    }
   ],
   "source": [
    "# method 1\n",
    "N = int(input())\n",
    "i = 1\n",
    "while i <= N:\n",
    "    spaces = 1\n",
    "    while spaces <= N - i:\n",
    "        print(\" \",end = ' ')\n",
    "        spaces = spaces + 1\n",
    "    j = 1\n",
    "    while j <= i:        \n",
    "        print(j, end = ' ')\n",
    "        j += 1\n",
    "        \n",
    "    print()\n",
    "    i = i + 1\n",
    "        "
   ]
  },
  {
   "cell_type": "code",
   "execution_count": 27,
   "id": "779d58d2",
   "metadata": {},
   "outputs": [
    {
     "name": "stdout",
     "output_type": "stream",
     "text": [
      "5\n",
      "        1 \n",
      "      1 2 \n",
      "    1 2 3 \n",
      "  1 2 3 4 \n",
      "1 2 3 4 5 \n"
     ]
    }
   ],
   "source": [
    "# method 2\n",
    "N = int(input())\n",
    "i = 1\n",
    "while i <= N:\n",
    "    j = 1\n",
    "    while j <= N - i:\n",
    "        print(\" \",end = ' ')\n",
    "        j = j + 1\n",
    "    p = 1    \n",
    "    while j >= N + 1 - i and j <= N: \n",
    "        print(p, end = ' ')\n",
    "        j = j + 1\n",
    "        p = p + 1\n",
    "        \n",
    "    print()\n",
    "    i = i + 1\n",
    "        "
   ]
  },
  {
   "cell_type": "code",
   "execution_count": null,
   "id": "cba5c963",
   "metadata": {},
   "outputs": [],
   "source": []
  }
 ],
 "metadata": {
  "kernelspec": {
   "display_name": "Python 3 (ipykernel)",
   "language": "python",
   "name": "python3"
  },
  "language_info": {
   "codemirror_mode": {
    "name": "ipython",
    "version": 3
   },
   "file_extension": ".py",
   "mimetype": "text/x-python",
   "name": "python",
   "nbconvert_exporter": "python",
   "pygments_lexer": "ipython3",
   "version": "3.9.7"
  }
 },
 "nbformat": 4,
 "nbformat_minor": 5
}
