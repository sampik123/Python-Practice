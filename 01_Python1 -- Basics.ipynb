{
 "cells": [
  {
   "cell_type": "markdown",
   "id": "02d3007d",
   "metadata": {},
   "source": [
    "Q1. Find Average Marks"
   ]
  },
  {
   "cell_type": "code",
   "execution_count": 1,
   "id": "293e2589",
   "metadata": {},
   "outputs": [
    {
     "name": "stdout",
     "output_type": "stream",
     "text": [
      "4\n"
     ]
    }
   ],
   "source": [
    "li = [3,4,1,4,5,7,9]\n",
    "avg = 0\n",
    "count = 0\n",
    "for i in li:\n",
    "    avg = avg + i\n",
    "    count = count + 1\n",
    "avg = avg // count\n",
    "print(avg)"
   ]
  },
  {
   "cell_type": "markdown",
   "id": "446c7a6a",
   "metadata": {},
   "source": [
    "Q2. Find X raised to Power N"
   ]
  },
  {
   "cell_type": "code",
   "execution_count": 2,
   "id": "929f8641",
   "metadata": {},
   "outputs": [
    {
     "name": "stdout",
     "output_type": "stream",
     "text": [
      " 2 raised to power 3 is : 8\n"
     ]
    }
   ],
   "source": [
    "def calculate_power(x,n):\n",
    "    result = x ** n\n",
    "    return result\n",
    "\n",
    "x = 2\n",
    "n = 3\n",
    "results = calculate_power(x,n)\n",
    "print(f\" {x} raised to power {n} is : {results}\")"
   ]
  },
  {
   "cell_type": "markdown",
   "id": "f7ab97a7",
   "metadata": {},
   "source": [
    "Q3. You are given first three entries of an arithmetic progression. You have to calculate the common difference and print it."
   ]
  },
  {
   "cell_type": "code",
   "execution_count": 3,
   "id": "be026751",
   "metadata": {},
   "outputs": [
    {
     "name": "stdout",
     "output_type": "stream",
     "text": [
      "The common difference in the arithmetic progression is: 3\n"
     ]
    }
   ],
   "source": [
    "a1 = 2  \n",
    "a2 = 5 \n",
    "a3 = 8 \n",
    "\n",
    "\n",
    "d = a2 - a1\n",
    "\n",
    "print(\"The common difference in the arithmetic progression is:\", d)"
   ]
  },
  {
   "cell_type": "markdown",
   "id": "a089b5ad",
   "metadata": {},
   "source": [
    "Q4. You are given a rectangle in a plane whose sides are parallel to the axes. The coordinates of one of its diagonals are provided to you. You have to print the total area of the rectangle.\n",
    "The coordinates of the rectangle are provided as four integral values: x1, y1, x2, y2. It is given that x1 < x2 and y1 < y2."
   ]
  },
  {
   "cell_type": "code",
   "execution_count": 4,
   "id": "3dae8b11",
   "metadata": {},
   "outputs": [
    {
     "name": "stdout",
     "output_type": "stream",
     "text": [
      " Area of Rectangle is : 12\n"
     ]
    }
   ],
   "source": [
    "def Area_Rect(x1, y1, x2, y2):\n",
    "    result = (x2-x1) * (y2-y1)\n",
    "    return result\n",
    "\n",
    "x1 = 2\n",
    "x2= 6\n",
    "y1 = 3\n",
    "y2 = 6\n",
    "results = Area_Rect(x1, y1, x2, y2)\n",
    "print(f\" Area of Rectangle is : {results}\")"
   ]
  },
  {
   "cell_type": "markdown",
   "id": "750da541",
   "metadata": {},
   "source": [
    "Q5. Given an integer n, find and print the sum of numbers from 1 to n."
   ]
  },
  {
   "cell_type": "code",
   "execution_count": 5,
   "id": "bc7297d6",
   "metadata": {},
   "outputs": [
    {
     "name": "stdout",
     "output_type": "stream",
     "text": [
      "15\n"
     ]
    }
   ],
   "source": [
    "def sum_of_num(n):\n",
    "    sum = 0\n",
    "    for i in range(n+1):\n",
    "        sum = sum + i\n",
    "        \n",
    "    return sum\n",
    "\n",
    "n = 5\n",
    "result = sum_of_num(n)\n",
    "print(result)"
   ]
  },
  {
   "cell_type": "markdown",
   "id": "7d92e46a",
   "metadata": {},
   "source": [
    "Q6. given an number n, print sum of all even numbers from 1 to N"
   ]
  },
  {
   "cell_type": "code",
   "execution_count": 7,
   "id": "6c61f4d6",
   "metadata": {},
   "outputs": [
    {
     "name": "stdout",
     "output_type": "stream",
     "text": [
      "6\n"
     ]
    }
   ],
   "source": [
    "#method 1\n",
    "def sum_of_even(n):\n",
    "    sum = 0\n",
    "    for i in range(2,n+1,2):\n",
    "        sum = sum + i\n",
    "        \n",
    "    return sum\n",
    "\n",
    "n = 5\n",
    "result = sum_of_even(n)\n",
    "print(result)"
   ]
  },
  {
   "cell_type": "code",
   "execution_count": 8,
   "id": "889c7e45",
   "metadata": {},
   "outputs": [
    {
     "name": "stdout",
     "output_type": "stream",
     "text": [
      "6\n"
     ]
    }
   ],
   "source": [
    "#method2\n",
    "def sum_even(n):\n",
    "    sum = 0\n",
    "    for i in range(2,n+1):\n",
    "        if i % 2 == 0:\n",
    "            sum = sum + i\n",
    "            \n",
    "    return sum\n",
    "\n",
    "n = 5\n",
    "result = sum_even(n)\n",
    "print(result)"
   ]
  },
  {
   "cell_type": "markdown",
   "id": "0b762577",
   "metadata": {},
   "source": [
    "Q7. write a program to generate the reverse of a given number N. print the corresponding reverse number."
   ]
  },
  {
   "cell_type": "code",
   "execution_count": 9,
   "id": "5b9ca8c9",
   "metadata": {},
   "outputs": [
    {
     "name": "stdout",
     "output_type": "stream",
     "text": [
      "12345\n",
      "54321\n"
     ]
    }
   ],
   "source": [
    "N = int(input())\n",
    "\n",
    "rev = 0\n",
    "while N > 0:\n",
    "    r = N % 10\n",
    "    N = N // 10\n",
    "    rev = (rev*10) + r\n",
    " \n",
    "\n",
    "print(rev)"
   ]
  },
  {
   "cell_type": "markdown",
   "id": "f20ddabe",
   "metadata": {},
   "source": [
    "Q8. check whether a given number 'n' is a palindrome number."
   ]
  },
  {
   "cell_type": "code",
   "execution_count": 10,
   "id": "175b3895",
   "metadata": {},
   "outputs": [
    {
     "name": "stdout",
     "output_type": "stream",
     "text": [
      "123454321\n",
      "given number is palindrome\n"
     ]
    }
   ],
   "source": [
    "N = int(input())\n",
    "\n",
    "rev = 0\n",
    "store = N\n",
    "while N > 0:\n",
    "    r = N % 10\n",
    "    N = N // 10\n",
    "    rev = (rev*10) + r\n",
    "    \n",
    "if rev == store:\n",
    "    print('given number is palindrome')\n",
    "else:\n",
    "    print('given number is not a palindrome')"
   ]
  },
  {
   "cell_type": "markdown",
   "id": "d149e4df",
   "metadata": {},
   "source": [
    "Q9. write a program to input an integer n and print the sum of all its even digits and the sum of its odd digits separately"
   ]
  },
  {
   "cell_type": "code",
   "execution_count": 11,
   "id": "95d2c3f0",
   "metadata": {},
   "outputs": [
    {
     "name": "stdout",
     "output_type": "stream",
     "text": [
      "12345\n",
      "6   9\n"
     ]
    }
   ],
   "source": [
    "n = int(input())\n",
    "\n",
    "sum_even = 0\n",
    "sum_odd = 0\n",
    "\n",
    "while n>0:\n",
    "    r = n % 10\n",
    "    n = n // 10\n",
    "\n",
    "    if r % 2 == 0:\n",
    "        sum_even = sum_even + r\n",
    "\n",
    "    if r % 2 == 1:\n",
    "        sum_odd = sum_odd + r  \n",
    "\n",
    "\n",
    "print(sum_even,\" \",sum_odd)         "
   ]
  },
  {
   "cell_type": "markdown",
   "id": "24140ab3",
   "metadata": {},
   "source": [
    "Q10. write a program to find the nth fibonacci number using loops:"
   ]
  },
  {
   "cell_type": "code",
   "execution_count": 1,
   "id": "eb4adde1",
   "metadata": {},
   "outputs": [
    {
     "name": "stdout",
     "output_type": "stream",
     "text": [
      "1\n",
      "1\n"
     ]
    }
   ],
   "source": [
    "N = int(input())\n",
    "\n",
    "prev1 = 1\n",
    "prev2 = 1\n",
    "\n",
    "if N ==1 or N == 2:\n",
    "    fib_num = 1\n",
    "    \n",
    "else:\n",
    "    i = 3\n",
    "    while i <= N:\n",
    "        current = prev1 + prev2\n",
    "        prev1 = prev2\n",
    "        prev2 = current \n",
    "        i = i + 1\n",
    "        \n",
    "    fib_num = prev2\n",
    "print(fib_num)"
   ]
  },
  {
   "cell_type": "markdown",
   "id": "271f0547",
   "metadata": {},
   "source": [
    "Q11. Factorial of a number:"
   ]
  },
  {
   "cell_type": "code",
   "execution_count": 14,
   "id": "89184f88",
   "metadata": {},
   "outputs": [
    {
     "name": "stdout",
     "output_type": "stream",
     "text": [
      "120\n"
     ]
    }
   ],
   "source": [
    "def fact_num(n):\n",
    "    fact = 1\n",
    "    for i in range(n,0,-1):\n",
    "        fact = fact * i\n",
    "    return fact\n",
    "\n",
    "num = 5\n",
    "store = fact_num(num)\n",
    "print(store)"
   ]
  },
  {
   "cell_type": "markdown",
   "id": "3e038986",
   "metadata": {},
   "source": [
    "Q12. check if number is perfect or not\n",
    "\n",
    "Perfect number : A perfect number is a positive integer that is equal to the sum of its proper divisors, excluding itself. Proper divisors are the positive divisors of a number, excluding the number itself.\n",
    "\n",
    "For example, the first perfect number is 6. The divisors of 6 are 1, 2, and 3. If you add these together (1 + 2 + 3), the sum is 6, which equals the original number. Therefore, 6 is a perfect number."
   ]
  },
  {
   "cell_type": "code",
   "execution_count": 15,
   "id": "50971608",
   "metadata": {},
   "outputs": [
    {
     "name": "stdout",
     "output_type": "stream",
     "text": [
      "perfect number\n"
     ]
    }
   ],
   "source": [
    "def Check_Perfect(n):\n",
    "    divisior = []\n",
    "    sum = 0\n",
    "    for i in range(1,n):\n",
    "        if n % i == 0:\n",
    "            divisior.append(i)\n",
    "            \n",
    "    for i in divisior:\n",
    "        sum = sum + i\n",
    "        \n",
    "    if sum == n:\n",
    "        print('perfect number')\n",
    "    else:\n",
    "        print('not a pefect number')\n",
    "        \n",
    "        \n",
    "n = 6\n",
    "Check_Perfect(n)"
   ]
  },
  {
   "cell_type": "markdown",
   "id": "9b0acc84",
   "metadata": {},
   "source": [
    "Q13. check if number is prime or not"
   ]
  },
  {
   "cell_type": "code",
   "execution_count": 16,
   "id": "c821a3ad",
   "metadata": {},
   "outputs": [
    {
     "name": "stdout",
     "output_type": "stream",
     "text": [
      "6\n",
      "not prime\n"
     ]
    }
   ],
   "source": [
    "#method 1\n",
    "n = int(input())\n",
    "flag = False\n",
    "for d in range(2,n,1):\n",
    "    if n % d == 0:\n",
    "        flag = True\n",
    "        \n",
    "if flag:\n",
    "    print(\"not prime\")\n",
    "else:\n",
    "    print(\"prime\")"
   ]
  },
  {
   "cell_type": "code",
   "execution_count": 17,
   "id": "71930240",
   "metadata": {},
   "outputs": [
    {
     "name": "stdout",
     "output_type": "stream",
     "text": [
      "71\n",
      "prime\n"
     ]
    }
   ],
   "source": [
    "#method2 -- optimized than the previous\n",
    "n = int(input())\n",
    "flag = False\n",
    "for d in range(2,n,1):\n",
    "    if n % d == 0:\n",
    "        flag = True\n",
    "        break\n",
    "        \n",
    "if flag:\n",
    "    print(\"not prime\")\n",
    "else:\n",
    "    print(\"prime\")"
   ]
  },
  {
   "cell_type": "code",
   "execution_count": 37,
   "id": "d49dd47a",
   "metadata": {},
   "outputs": [
    {
     "name": "stdout",
     "output_type": "stream",
     "text": [
      "10\n",
      "2\n",
      "3\n",
      "5\n",
      "7\n"
     ]
    }
   ],
   "source": [
    "#print all prime numbers till n\n",
    "n = int(input())\n",
    "k =2\n",
    "while k <= n:\n",
    "    d = 2\n",
    "    flag = False\n",
    "    while d < k:\n",
    "        if k % d == 0:\n",
    "            flag = True\n",
    "            break\n",
    "        d = d + 1\n",
    "    if flag == False:\n",
    "        print(k)\n",
    "    k = k + 1        "
   ]
  },
  {
   "cell_type": "markdown",
   "id": "cfc9754c",
   "metadata": {},
   "source": [
    "Q14. Check if number is armstrong or not:"
   ]
  },
  {
   "cell_type": "code",
   "execution_count": 16,
   "id": "b2ceb26c",
   "metadata": {},
   "outputs": [
    {
     "name": "stdout",
     "output_type": "stream",
     "text": [
      "Armstrong number\n"
     ]
    }
   ],
   "source": [
    "# 153 is an Armstrong number because: 1^3 + 5^3 + 3^3 = 1 + 125 + 27 = 153.\n",
    "def Check_Armstrong(n):\n",
    "    sum = 0\n",
    "    store = n\n",
    "    while n > 0:\n",
    "        r = n % 10\n",
    "        n = n // 10\n",
    "        sum = sum + r ** 3\n",
    "        \n",
    "    if sum == store:\n",
    "        print(\"Armstrong number\")\n",
    "    else:\n",
    "        print('not a armstrong number')\n",
    " \n",
    " Check_Armstrong(153)   "
   ]
  },
  {
   "cell_type": "markdown",
   "id": "1507a43e",
   "metadata": {},
   "source": [
    "Q15. Find GCD\n",
    "\n",
    "\n",
    "soln :  iterating through all the numbers up to the smaller of the two input numbers and finding the largest number that divides both inputs."
   ]
  },
  {
   "cell_type": "code",
   "execution_count": 20,
   "id": "48b94fff",
   "metadata": {},
   "outputs": [
    {
     "name": "stdout",
     "output_type": "stream",
     "text": [
      "6\n"
     ]
    }
   ],
   "source": [
    "def Find_GCD(x, y):\n",
    "    if x > y:\n",
    "        small = y\n",
    "    else:\n",
    "        small = x\n",
    "    \n",
    "    gcd = 1  # Initialize gcd before the loop\n",
    "\n",
    "    for i in range(1, small + 1):\n",
    "        if x % i == 0 and y % i == 0:\n",
    "            gcd = i\n",
    "    \n",
    "    return gcd\n",
    "\n",
    "store = Find_GCD(12, 18)\n",
    "print(store)"
   ]
  },
  {
   "cell_type": "markdown",
   "id": "874f9e68",
   "metadata": {},
   "source": [
    "Q17. Given a number N, figure out if it is a member of fibonacci series or not. return true if the member of fib. series else false."
   ]
  },
  {
   "cell_type": "code",
   "execution_count": 21,
   "id": "08517b0a",
   "metadata": {},
   "outputs": [
    {
     "name": "stdout",
     "output_type": "stream",
     "text": [
      "True\n"
     ]
    }
   ],
   "source": [
    "def checkMember(n):\n",
    "    if n < 0:\n",
    "        return False\n",
    "    a,b = 0,1\n",
    "    while a <= n:\n",
    "        if a == n:\n",
    "            return True\n",
    "        \n",
    "        a, b = b, a + b\n",
    "        \n",
    "    return False\n",
    "\n",
    "\n",
    "n = 21\n",
    "print(checkMember(n))"
   ]
  },
  {
   "cell_type": "code",
   "execution_count": null,
   "id": "8d73ead7",
   "metadata": {},
   "outputs": [],
   "source": []
  }
 ],
 "metadata": {
  "kernelspec": {
   "display_name": "Python 3 (ipykernel)",
   "language": "python",
   "name": "python3"
  },
  "language_info": {
   "codemirror_mode": {
    "name": "ipython",
    "version": 3
   },
   "file_extension": ".py",
   "mimetype": "text/x-python",
   "name": "python",
   "nbconvert_exporter": "python",
   "pygments_lexer": "ipython3",
   "version": "3.9.7"
  }
 },
 "nbformat": 4,
 "nbformat_minor": 5
}
